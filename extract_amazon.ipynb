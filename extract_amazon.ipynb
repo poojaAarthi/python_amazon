{
 "cells": [
  {
   "cell_type": "code",
   "execution_count": null,
   "id": "095c3f70",
   "metadata": {},
   "outputs": [],
   "source": []
  },
  {
   "cell_type": "code",
   "execution_count": 2,
   "id": "124f893d",
   "metadata": {},
   "outputs": [],
   "source": []
  },
  {
   "cell_type": "code",
   "execution_count": null,
   "id": "637f7b0e",
   "metadata": {},
   "outputs": [],
   "source": [
    "   "
   ]
  },
  {
   "cell_type": "code",
   "execution_count": 2,
   "id": "fac66b59",
   "metadata": {},
   "outputs": [],
   "source": []
  },
  {
   "cell_type": "code",
   "execution_count": 6,
   "id": "0da03f88",
   "metadata": {},
   "outputs": [
    {
     "name": "stdout",
     "output_type": "stream",
     "text": [
      "[['OnePlus Nord 2 5G (Blue Haze, 8GB RAM, 128GB Storage)'], ['OnePlus Nord 2 5G (Gray Sierra, 8GB RAM, 128GB Storage)'], ['OnePlus Nord CE 5G (Charcoal Ink, 8GB RAM, 128GB Storage)'], ['OnePlus Nord CE 5G (Blue Void, 8GB RAM, 128GB Storage)'], ['OnePlus Nord CE 5G (Charcoal Ink, 6GB RAM, 128GB Storage)'], ['OnePlus Nord 2 5G (Blue Haze, 12GB RAM, 256GB Storage)'], ['OnePlus Nord 2 5G (Green Woods, 12GB RAM, 256GB Storage)'], ['OnePlus Nord 2 5G (Gray Sierra, 12GB RAM, 256GB Storage)'], ['OnePlus 9R 5G (Lake Blue, 8GB RAM, 128GB Storage) I Additional upto INR3000 off on Exchange'], ['OnePlus 9R 5G (Carbon Black, 8GB RAM, 128GB Storage) I Additional upto INR3000 off on Exchange'], ['OnePlus 9R 5G (Lake Blue, 12GB RAM, 256GB Storage) I Additional upto INR3000 off on Exchange'], ['OnePlus Nord CE 5G (Blue Void, 12GB RAM, 256GB Storage)'], ['OnePlus 9R 5G (Carbon Black, 12GB RAM, 256 GB Storage) I Additional upto INR3000 off on Exchange'], ['OnePlus Nord CE 5G (Silver Ray, 12GB RAM, 256GB Storage)'], ['OnePlus 9 Pro 5G (Pine Green, 12GB RAM, 256GB Storage) I Additional upto INR5000 off on Exchange'], ['OnePlus 9 Pro 5G (Morning Mist, 12GB RAM, 256GB Storage) I Additional upto INR5000 off on Exchange'], ['OnePlus 9 5G (Winter Mist, 12GB RAM, 256GB Storage) I Additional upto INR5000 off on Exchange'], ['OnePlus 9 5G (Astral Black, 8GB RAM, 128GB Storage) I Additional upto INR5000 off on Exchange'], ['OnePlus 9 Pro 5G (Stellar Black, 12GB RAM, 256GB  Storage) I Additional upto INR5000 off on Exchange'], ['OnePlus 8T 5G (Aquamarine Green, 8GB RAM, 128GB Storage)'], ['OnePlus 9 5G (Arctic Sky, 8GB RAM, 128GB Storage) I Additional upto INR5000 off on Exchange'], ['OnePlus 9 5G (Astral Black, 12GB RAM, 256GB Storage) I Additional upto INR5000 off on Exchange'], ['OnePlus 9 5G (Arctic Sky,12GB RAM, 256GB Storage) I Additional upto INR5000 off on Exchange'], ['OnePlus 8T 5G (Lunar Silver, 8GB RAM, 128GB Storage)'], ['OnePlus']] [['29,999'], ['29,999'], ['24,999'], ['24,999'], ['22,999'], ['34,999'], ['34,999'], ['34,999'], ['39,999'], ['39,999'], ['43,999'], ['27,999'], ['43,999'], ['27,999'], ['69,999'], ['69,999'], ['54,999'], ['49,999'], ['69,999'], ['38,999'], ['49,999'], ['54,999'], ['54,999'], ['38,999']] "
     ]
    }
   ],
   "source": [
    "\n",
    "### mobile_oneplus### \n",
    "\n",
    "from selenium import webdriver\n",
    "from selenium.webdriver.support.ui import Select\n",
    "import time\n",
    "import pandas as pd\n",
    "import os\n",
    "import  xlsxwriter\n",
    "\n",
    "driv=(r\"C:\\Users\\Merit\\Downloads\\chromedriver_win32 (1)\\chromedriver.exe\")\n",
    "driver = webdriver.Chrome(executable_path=driv)\n",
    "driver.get(\"https://www.amazon.in/s?k=offers+today+low+price&crid=2EN671FD3KPKN&sprefix=offer%2Caps%2C300&ref=nb_sb_ss_ts-doa-p_1_5\")\n",
    "driver.find_element_by_xpath(\"//a[contains(text(),'Mobiles')]\").click()\n",
    "driver.find_element_by_xpath(\"//body/div[@id='a-page']/div[2]/div[2]/div[1]/div[1]/section[1]/div[1]/div[1]/div[2]/div[2]/div[1]/ol[1]/li[1]/a[1]/img[1]\").click()\n",
    "a=driver.find_elements_by_xpath(\"//span[contains(text(),'OnePlus')]\")\n",
    "\n",
    "l=[]\n",
    "for i in a:\n",
    "    l.append(i.text.split(\"\\n\"))\n",
    "print(l,end=\" \")\n",
    "\n",
    "b=driver.find_elements_by_xpath(\"//span[@class='a-price-whole']\")\n",
    "l2=[]\n",
    "for j in b:\n",
    "    l2.append(j.text.split(\"\\n\"))\n",
    "print(l2,end=\" \")\n",
    "\n",
    "df=pd.DataFrame(list(zip(l,l2)),columns=[\"Product Name\",\"Original Price\"])\n",
    "writer = pd.ExcelWriter('Amaz_mobile_oneplus.xlsx', engine='xlsxwriter')\n",
    "df.to_excel(writer, sheet_name=\"Amazon_mobile\", index=False)\n",
    "writer.save()\n"
   ]
  },
  {
   "cell_type": "code",
   "execution_count": null,
   "id": "a9642a2e",
   "metadata": {},
   "outputs": [],
   "source": []
  },
  {
   "cell_type": "code",
   "execution_count": 5,
   "id": "7f02142d",
   "metadata": {},
   "outputs": [
    {
     "name": "stdout",
     "output_type": "stream",
     "text": [
      "[['Younky'], ['Younky'], ['Younky'], ['Sheomy'], ['ROYAL SON'], ['Sheomy'], ['CREATURE'], ['NUVeW'], ['CREATURE'], ['VIEDANSA'], ['CREATURE'], ['Dervin'], ['ELEGANTE'], ['JM'], ['JIM HALO'], ['CREATURE'], ['ELEGANTE'], ['GLAMORSTYL'], ['Killer X'], ['ROYAL SON'], ['Younky'], ['Younky'], ['Ray-Ban'], ['grey jack'], ['Fastrack'], ['Younky'], ['JIM HALO'], ['grey jack'], ['IFLASH'], ['Younky'], ['Younky'], ['NUVeW'], ['HRINKAR'], ['CREATURE'], ['MTV Roadies'], ['grey jack'], ['MTV Roadies'], ['HRINKAR'], ['Caprio'], ['Younky'], ['Younky'], ['Sheomy'], ['VINCENT CHASE EYEWEAR'], ['Younky'], ['Imperial Club'], ['ROYAL SON'], ['HRINKAR'], ['Younky'], ['VIEDANSA'], ['Younky'], ['Ray-Ban'], ['Sheomy'], ['ELEGANTE'], ['ROYAL SON'], ['JIM HALO'], ['ELEGANTE'], ['Killer X'], ['ROYAL SON'], ['POLICE'], ['POLICE']] [['Combo Offer of Branded UV Protected Stylish Aviator Sunglasses For Men Women Boys And Girls With Digital LED Watch (BlkBlk-HalfBlack-ALed) - 2 Sunglass Case'], ['Unisex Combo Offer Pack of UV Protected Aviator Mercury Sunglasses For Men Women Boys & Girls (BB-BM|55|Black) - 2 Sunglass Case'], ['Unisex Combo Offer Pack of UV Protected Aviator Stylish Mercury Sunglasses For Men Women Boys & Girls (GBM-GGrn-GM|55|Green) - 3 Sunglass Case'], ['Combo offer pack of Jet Black Strap Analouge Watches and Zed Full BLack Sunglasses and Sun glasses combo for Men and Women Zed Full BLack Combo Set of 2 (B01D1X992C)'], [\"Royal Son Plastic Wayfarer Women's Sunglasses Combo\"], ['New Arrival Special Collection of Festive Seasons Brown Color Unisex Sunglasses black Sheomy Printed Watch and Black Round Sunglasses Combo Ideal for Girls and Women (5L-6075-6B9X)'], ['Black and Brown Matt Finish Unisex Sunglasses Combo with UV Protection (Lens-Purple & Brown||Frame-Black/Brown||Doit-001-002)'], ['Unisex Combo Pack of 5 Aviator Sunglasses (Multi-color | Free Size | UV Protection)'], ['Black & Green Sunglasses Combo with UV Protection (Lens-Black & Green||Frame-Black & Green||SUN-001-003)'], ['Polarized Square Oversized Sunglasses for Women,Trendy Fashion Shades'], ['Black Sunglasses Combo with UV Protection (Lens-Purple & Blue||Frame-Black||DOIT-001-004)'], [\"Nightdrive Driving Easy Day and Night Men's and Women's Sunglasses (Yellow)\"], ['Rectanglular Sunglasses for Women Retro Driving Sunlgasses Vintage Fashion Narrow Square Frame UV400 Protection'], ['Sport Polarized Sunglasses Men Women Semi Rimless Cycling Running Fishing Golf Hiking'], ['Sport Sunglasses for Men Women TR90 Rimless Unbreakable Frame for Running Fishing Baseball Driving'], ['Gaga Cat-Eye Oversized Sunglasses For Girls(Lens-Brown||Frame-Brown||GAGA-012)'], [\"Women's Oval Sunglasses\"], ['Combo Of UV Protected Cat eye Oval Sunglasses For Women( Set of 2)'], ['Sunglasses imported cat eye metal Medium frame glasses for unisex'], ['Women Over Sized Sunglasses'], ['Unisex Combo Offer Pack of UV Protected Round Mercury Sunglasses For Men Women Boys & Girls (YNK_18-RGrn-RSlvr-RBlu|55|SIlver) - 3 Sunglass Case'], ['Combo Offer of UV Protected Aviator Sunglasses For Men Women Boys And Girls With Digital LED Watch (BlkBlk-SlvrMrcy-ALed) - 2 Sunglass'], ['Unisex UV Protected Sunglasses ( 0RB3129I|58 mm|Crystal Green)'], ['Square Polarized Sunglasses UV Protected for Men Women Metal Frame GJ1296'], ['Unisex Square Sunglasses Multi And Red Frame Black Lens'], ['Combo Offer of Branded UV Protected Stylish Aviator Sunglasses For Men Women Boys And Girls With Digital LED Watch (BM-GrnGrdnt-ALed) - 2 Sunglass Case'], ['Polarized Sports Sunglasses Mirror Wrap Around Driving Fishing Men Women'], ['Square Polarized Sunglasses UV Protected for Men Women Metal Frame GJ1293'], ['Adult Round Sunglasses (Assorted Frame, Assorted Lens) (Free Size) (Black)'], ['Aviator Men and Women Mercury Sunglasses (Golden, 55) Combo of 2'], ['Offers Combo Pack Of 2 Sunglasses For Men Women Boys & Girls (Gldngreenav-Kvliblk | 48 | Green) - 2 Sunglass Case'], ['Unisex Aviator Sunglasses'], ['Brown Lens Brown Frame Rectangular Polarized Gradient UV Protection Stylish goggles and Letest Fashion shades sunglasses for men women boys girls - HRS496-BWN-BWN-P'], ['Multicolored & Blue Sunglasses Combo with UV Protection (Lens-Multicolored & Blue||Frame-Brown & Black||DOIT-003-004)'], ['UV Protected Sport Unisex Sunglasses - (RD-125-C4|65|Transparent Color)'], ['Square Polarized Metal Frame Sunglasses for Men Women Stylish 1276'], ['Men-Women Sport Sunglasses'], ['Black Lens Black Frame Rectangular Rectangular Polarized Gradient UV Protection Stylish goggles and Letest Fashion shades sunglasses for men women boys girls - HRS499-BK-BK-P'], ['Red & Black Mirrored Metallic Frame Unisex Square Sunglasses'], ['Offer On Combo of Aviator Mercury Sunglasses for Men Women Boys & Girls (M21_AvstkGM-Disbm) - 2 Sunglass Case'], ['Offers Combo Pack Of 2 Sunglasses For Men Women Boys & Girls (Bigbblue-Bmav | 48 | Blue) - 2 Sunglass Case'], [\"Combo offer Pack of 3 sunglasses Wallet and watch combo of full black shades with Black Round slim dial quartz analogue Men's Watch Wrist Watches with hard black plastic box\"], ['Vincent Chase by lenskart | Round Stylish Sunglasses | Polarized & UV Protected | For Women | (48) Grey | VC S11164'], ['Unisex UV Protected Round Stylish Mercury Sunglasses For Men Women Boys & Girls (RPRDWAY-BB|55|Black) - 1 Sunglass Case'], ['Oval Over-Sized Womens Sunglasses(Wy011|40|Brown)'], ['Women Over Sized Sunglasses'], ['Grey Lens Red & Transparent Frame Cat-eye Sunglasses For Women - HRS308-RD'], ['Unisex Combo Offer Pack of UV Protected Cateye Mercury Sunglasses For Men Women Boys & Girls (BlackCateye-BrownCateye|55|Black) - 2 Sunglass'], ['Round Sunglasses Vintage Metal Frame Circle Sun Glasses Shades for Men Women'], ['Combo Offer of UV Protected Aviator Sunglasses For Men Women Boys And Girls With Digital LED Watch (GrnGrdnt-SM-ALed) - 2 Sunglass'], ['Rayban Aviator unisex Sunglasses (0RB302|5112/19 58|58 millimeters|Green)'], [\"Combo offer Pack of Blue Dial Round watch wallet goggle combo Men's Sunglasses Combo With Analog Wrist Watch Quartz, Wallet and Sunglasses Combo Box chasma for men stylish glass B07V82C9PJ\"], ['Honey Bee on Lenses Butterfly Sunglasses for Women'], ['Women Oversized Square Sunglasses'], ['Polarized Sports Sunglasses Mirror Wrap Around Driving Fishing Men Women'], ['Rectanglular Sunglasses for Women Retro Driving Sunlgasses Vintage Fashion Narrow Square Frame UV400 Protection'], [\"Women's Cateye Sunglasses\"], [\"Women's Cateye Sunglasses\"], [\"UV Protection Women's Sunglass (SPL621K56Z42SG)\"], [\"UV Protection Women's Sunglass (SPL34352878SG)\"]] [['₹1,799'], ['₹1,799'], ['₹2,499'], ['₹1,999'], ['₹999'], ['₹1,999'], ['₹2,499'], ['₹1,250'], ['₹2,499'], ['₹1,999'], ['₹2,499'], ['₹1,499'], ['₹1,999'], ['₹1,299'], ['₹1,200'], ['₹1,499'], ['₹1,999'], ['₹1,999'], ['₹1,799'], ['₹1,999'], ['₹1,999'], ['₹1,799'], ['₹6,590'], ['₹1,999'], ['₹1,299'], ['₹1,899'], ['₹1,599'], ['₹1,999'], ['₹999'], ['₹1,599'], ['₹1,599'], ['₹998'], ['₹1,099'], ['₹2,499'], ['₹999'], ['₹1,999'], ['₹999'], ['₹1,099'], ['₹2,300'], ['₹1,599'], ['₹1,599'], ['₹1,999'], ['₹1,999'], ['₹799'], ['₹1,195'], ['₹1,999'], ['₹1,099'], ['₹1,999'], ['₹1,999'], ['₹1,599'], ['₹7,490'], ['₹1,999'], ['₹1,999'], ['₹1,999'], ['₹1,599'], ['₹1,999'], ['₹1,499'], ['₹1,499'], ['₹8,670'], ['₹8,850']] [['₹319'], ['₹249'], ['₹329'], ['₹299'], ['₹217'], ['₹299'], ['₹399'], ['₹396'], ['₹399'], ['₹1,199'], ['₹399'], ['₹225'], ['₹413'], ['₹999'], ['₹1,099'], ['₹249'], ['₹413'], ['₹499'], ['₹499'], ['₹699'], ['₹299'], ['₹319'], ['₹4,760'], ['₹1,299'], ['₹1,110'], ['₹299'], ['₹1,200'], ['₹1,299'], ['₹189'], ['₹329'], ['₹249'], ['₹345'], ['₹584'], ['₹399'], ['₹419'], ['₹1,299'], ['₹468'], ['₹584'], ['₹690'], ['₹299'], ['₹299'], ['₹399'], ['₹1,330'], ['₹199'], ['₹349'], ['₹657'], ['₹362'], ['₹299'], ['₹749'], ['₹279'], ['₹6,209'], ['₹399'], ['₹413'], ['₹699'], ['₹1,289'], ['₹413'], ['₹299'], ['₹599'], ['₹3,799'], ['₹4,827']] "
     ]
    }
   ],
   "source": [
    "#######sunglass##########\n",
    "\n",
    "from selenium import webdriver\n",
    "from selenium.webdriver.support.ui import Select\n",
    "import time\n",
    "import pandas as pd\n",
    "import os\n",
    "import  xlsxwriter\n",
    "\n",
    "driv=(r\"C:\\Users\\Merit\\Downloads\\chromedriver_win32 (1)\\chromedriver.exe\")\n",
    "driver = webdriver.Chrome(executable_path=driv)\n",
    "driver.get(\"https://www.amazon.in/s?k=offer+sunglass&rh=n%3A1968401031&ref=nb_sb_noss\")\n",
    "##Brand name\n",
    "\n",
    "a=driver.find_elements_by_xpath(\"//h5[@class='s-line-clamp-1']\")\n",
    "l1=[]\n",
    "for i in a:\n",
    "    l1.append(i.text.split(\"\\n\"))\n",
    "print(l1,end=\" \")\n",
    "##Product name\n",
    "b=driver.find_elements_by_xpath(\"//h2[@class='a-size-mini a-spacing-none a-color-base s-line-clamp-2']\")\n",
    "l2=[]\n",
    "for j in b:\n",
    "    l2.append(j.text.split(\"\\n\"))\n",
    "print(l2,end=\" \")\n",
    "##  MRP\n",
    "c=driver.find_elements_by_xpath(\"//div[@class='a-row a-size-base a-color-base']//following::span[contains(@class,'a-price a-text-price')]\")\n",
    "l3=[]\n",
    "for k in c:\n",
    "    l3.append(k.text.split(\"\\n\"))\n",
    "print(l3,end=\" \")\n",
    "## Discount price\n",
    "d=driver.find_elements_by_xpath(\"//h2[@class='a-size-mini a-spacing-none a-color-base s-line-clamp-2']//following::span[@class='a-price']\")\n",
    "l4=[]\n",
    "for m in d:\n",
    "    l4.append(m.text.split(\"\\n\"))\n",
    "print(l4,end=\" \")\n",
    "\n",
    "df=pd.DataFrame(list(zip(l1,l2,l3,l4)),columns=[\"Brand Name\",\"Product Name\",\"MRP\",\"Discount Price\"])\n",
    "writer = pd.ExcelWriter('sun_glass2.xlsx', engine='xlsxwriter')\n",
    "df.to_excel(writer, sheet_name=\"cooling_glass\", index=False)\n",
    "writer.save()\n",
    "\n"
   ]
  },
  {
   "cell_type": "code",
   "execution_count": null,
   "id": "f7cdf89e",
   "metadata": {},
   "outputs": [],
   "source": []
  }
 ],
 "metadata": {
  "kernelspec": {
   "display_name": "Python 3",
   "language": "python",
   "name": "python3"
  },
  "language_info": {
   "codemirror_mode": {
    "name": "ipython",
    "version": 3
   },
   "file_extension": ".py",
   "mimetype": "text/x-python",
   "name": "python",
   "nbconvert_exporter": "python",
   "pygments_lexer": "ipython3",
   "version": "3.8.8"
  }
 },
 "nbformat": 4,
 "nbformat_minor": 5
}
